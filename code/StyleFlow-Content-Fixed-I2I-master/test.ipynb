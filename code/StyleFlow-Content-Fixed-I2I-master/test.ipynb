{
 "cells": [
  {
   "cell_type": "code",
   "execution_count": 3,
   "metadata": {},
   "outputs": [
    {
     "name": "stdout",
     "output_type": "stream",
     "text": [
      "./data/content/06-train-cat-shake-hands.jpg\n",
      "./data/content/12-Chureito-pagoda-and-Mount-Fuji-Japan.jpg\n",
      "./data/content/1556455347702.jpg\n",
      "./data/content/170508_10_27_41_5DS29248.0.jpg\n",
      "./data/content/26803-surfing-waves-748x468.jpg\n",
      "./data/content/6snyyart2t84dhcp.jpg\n",
      "./data/content/adopt-a-cat-1200x630.png\n",
      "./data/content/aeb8bcf40f53322aab56fd4fc90a7103.jpg\n",
      "./data/content/An_up-close_picture_of_a_curious_male_domestic_shorthair_tabby_cat.jpg\n",
      "./data/content/Atlanta.jpg\n",
      "./data/content/Cat-rolling-GettyImages-165893132-58ac5ef05f9b58a3c90a144f.jpg\n",
      "./data/content/chicago.jpg\n",
      "./data/content/cre-times-square-1.jpg\n",
      "./data/content/el-capitan-and-merced-river-in-the-mighty-yosemite.jpg\n",
      "./data/content/for-news-article-azuma.jpg\n",
      "./data/content/geoff6.jpg\n",
      "./data/content/half_dome_yosemite_national_park.jpg\n",
      "./data/content/image.jpg\n",
      "./data/content/japan-40283292-1483441950-ImageGalleryLightboxLarge.jpg\n",
      "./data/content/japan-hero-3.jpg\n",
      "./data/content/jpeg.jpg\n",
      "./data/content/kitten-440379.jpg\n",
      "./data/content/kitten.jpg\n",
      "./data/content/lost-lake-near-nederland-cc-bfagan-831x530.jpg\n",
      "./data/content/LT_471_(LTZ_1471)_Arriva_London_New_Routemaster_(19522859218).jpg\n",
      "./data/content/maxresdefault.jpg\n",
      "./data/content/mountains-hero.jpg\n",
      "./data/content/Navistar-IC-Bus-RE-School-Bus-.jpg\n",
      "./data/content/one-night-break-with-12113620.jpg\n",
      "./data/content/patterned_leaves.jpg\n",
      "./data/content/photo-1474487548417-781cb71495f3.jpg\n",
      "./data/content/photo-1518791841217-8f162f1e1131.jpg\n",
      "./data/content/product_cities-of-eastern-canada.jpg\n",
      "./data/content/sansa-stark-sophie-turner.jpg\n",
      "./data/content/sea-01.jpg\n",
      "./data/content/silver_plate.jpg\n",
      "./data/content/stata.jpg\n",
      "./data/content/stradun-cover.jpg\n",
      "./data/content/street-again.jpg\n",
      "./data/content/Tyrion-Lannister-Season-6-tyrion-lannister-39296376-2048-1363.jpg\n",
      "./data/content/washingtonstreet-dumbo-brooklyn-nyc-dumbostreetscenes_julienneschaer_207__large.jpg\n",
      "./data/content/Yann-LeCun-photo.jpg\n"
     ]
    }
   ],
   "source": [
    "import os\n",
    "\n",
    "img_path = \"./data/content/\"\n",
    "\n",
    "for dirpath, dirname, filenames in os.walk(img_path):\n",
    "    for filepath in filenames:\n",
    "        print(os.path.join(dirpath, filepath))"
   ]
  },
  {
   "cell_type": "code",
   "execution_count": null,
   "metadata": {},
   "outputs": [],
   "source": []
  }
 ],
 "metadata": {
  "kernelspec": {
   "display_name": "Python 3",
   "language": "python",
   "name": "python3"
  },
  "language_info": {
   "codemirror_mode": {
    "name": "ipython",
    "version": 3
   },
   "file_extension": ".py",
   "mimetype": "text/x-python",
   "name": "python",
   "nbconvert_exporter": "python",
   "pygments_lexer": "ipython3",
   "version": "3.8.10"
  },
  "orig_nbformat": 4,
  "vscode": {
   "interpreter": {
    "hash": "47e86d731e077963188d400b641a1f5cee6401b89b8a1175acb1a082248e2517"
   }
  }
 },
 "nbformat": 4,
 "nbformat_minor": 2
}
